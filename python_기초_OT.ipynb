{
  "nbformat": 4,
  "nbformat_minor": 0,
  "metadata": {
    "colab": {
      "provenance": [],
      "include_colab_link": true
    },
    "kernelspec": {
      "name": "python3",
      "display_name": "Python 3"
    },
    "language_info": {
      "name": "python"
    }
  },
  "cells": [
    {
      "cell_type": "markdown",
      "metadata": {
        "id": "view-in-github",
        "colab_type": "text"
      },
      "source": [
        "<a href=\"https://colab.research.google.com/github/edujongkook/colab_sbs_python_weekend/blob/main/python_%EA%B8%B0%EC%B4%88_OT.ipynb\" target=\"_parent\"><img src=\"https://colab.research.google.com/assets/colab-badge.svg\" alt=\"Open In Colab\"/></a>"
      ]
    },
    {
      "cell_type": "markdown",
      "source": [
        "### 강의관련 자료\n",
        "\n",
        "- https://github.com/edujongkook/colab_sbs_python_weekend\n",
        "\n",
        "### QnA 메일주소\n",
        "- edujongkook@gmail.com\n"
      ],
      "metadata": {
        "id": "l0oOuPuci1ik"
      }
    },
    {
      "cell_type": "markdown",
      "source": [
        "### 강의일정\n",
        "\n",
        "\n",
        "\n",
        "\n"
      ],
      "metadata": {
        "id": "wnIPWDwDi3ZY"
      }
    },
    {
      "cell_type": "markdown",
      "source": [
        "|날짜|강의 내용|실습 내용|교재|\n",
        "|------|---------|------------|------|\n",
        "|1일차|OT, 파이썬 기초|오리엔테이션, 파이썬기초, 컬렉션|section 2,3|\n",
        "|2일차|연산자, 제어문|연산자, 조건문, 반복문|section 4 ~ 8|\n",
        "|3일차|함수, 모듈과 패키지|함수와 매서드, 모듈 작성 및 호출|section 9 ~ 12|\n",
        "|4일차|클래스와 객체, 상속, 예외처리|객제지향, 클래스 작성, 클래스 상속|section 15,16|\n",
        "|5일차|파일 입출력, 예외처리|파일 입출력, 예외처리 실습|section 13,14,17|\n",
        "|6일차|데이터베이스|데이터베이스 기본이해 및 실습||\n",
        "|7일차|웹 크롤링|Beautiful soup 모듈 실습|section 18|\n",
        "|8일차|데이터 시각화|Matplotlib, wordcloud 모듈 실습|section 19|\n"
      ],
      "metadata": {
        "id": "SJVIJdd-nSKO"
      }
    },
    {
      "cell_type": "markdown",
      "source": [
        "**교재내용 중 핵심적인 부분만 진행**\n",
        "\n",
        "+개발할 때 유용한 라이브러리\n",
        "\n",
        "+실무형 소스코드 실습\n",
        "\n",
        "+문제해결 코드작성 해보기\n"
      ],
      "metadata": {
        "id": "jXT4dX3pqg2p"
      }
    },
    {
      "cell_type": "markdown",
      "source": [
        "1시간40분 - 20분 - 1시간40분"
      ],
      "metadata": {
        "id": "eRn_NfiAAFk0"
      }
    },
    {
      "cell_type": "code",
      "source": [
        "print()"
      ],
      "metadata": {
        "id": "F1hmD8GgAnZB",
        "colab": {
          "base_uri": "https://localhost:8080/"
        },
        "outputId": "97aa9b95-ffc7-407b-b2fd-1ac229aab3d7"
      },
      "execution_count": null,
      "outputs": [
        {
          "output_type": "stream",
          "name": "stdout",
          "text": [
            "\n"
          ]
        }
      ]
    }
  ]
}