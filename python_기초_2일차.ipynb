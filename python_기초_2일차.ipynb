{
  "nbformat": 4,
  "nbformat_minor": 0,
  "metadata": {
    "colab": {
      "provenance": [],
      "collapsed_sections": [
        "Fe78Gs2dYeAm",
        "oF7O4vZsZSWg",
        "Me8LRyXOZUn9",
        "1Saj8viNZWiY"
      ],
      "toc_visible": true,
      "authorship_tag": "ABX9TyPjblb+2SGvcfgCDNRZGzLJ",
      "include_colab_link": true
    },
    "kernelspec": {
      "name": "python3",
      "display_name": "Python 3"
    },
    "language_info": {
      "name": "python"
    }
  },
  "cells": [
    {
      "cell_type": "markdown",
      "metadata": {
        "id": "view-in-github",
        "colab_type": "text"
      },
      "source": [
        "<a href=\"https://colab.research.google.com/github/edujongkook/colab_sbs_python_weekend/blob/main/python_%EA%B8%B0%EC%B4%88_2%EC%9D%BC%EC%B0%A8.ipynb\" target=\"_parent\"><img src=\"https://colab.research.google.com/assets/colab-badge.svg\" alt=\"Open In Colab\"/></a>"
      ]
    },
    {
      "cell_type": "markdown",
      "source": [
        "## 2일차 강의 내용\n",
        "- 연산자\n",
        "- 조건문\n",
        "- 반복문\n"
      ],
      "metadata": {
        "id": "eMa8ZX-KImB8"
      }
    },
    {
      "cell_type": "markdown",
      "source": [
        "## 연산자 (operator) - p70"
      ],
      "metadata": {
        "id": "BeFvinYFLeb4"
      }
    },
    {
      "cell_type": "markdown",
      "source": [
        "### 기본 연산자"
      ],
      "metadata": {
        "id": "JUy_o4IBMScE"
      }
    },
    {
      "cell_type": "markdown",
      "source": [
        "- 기본사칙연산에서 곱셈만 * 로 연산\n",
        "- 거듭제곱은 **\n",
        "- 나눗셈의 몫을 구하는 연산자 //\n",
        "- 나눗셈의 나머지를 구하는 연산자 %"
      ],
      "metadata": {
        "id": "-8BiXwsJMVm4"
      }
    },
    {
      "cell_type": "code",
      "source": [
        "7 * 2  # 7 x 2\n"
      ],
      "metadata": {
        "id": "XrVTcjX1LktO",
        "colab": {
          "base_uri": "https://localhost:8080/"
        },
        "outputId": "fe0eab27-a482-417a-927c-ed5b3b9240bd"
      },
      "execution_count": null,
      "outputs": [
        {
          "output_type": "execute_result",
          "data": {
            "text/plain": [
              "14"
            ]
          },
          "metadata": {},
          "execution_count": 1
        }
      ]
    },
    {
      "cell_type": "code",
      "source": [
        "7 ** 2  # 7의2제곱\n"
      ],
      "metadata": {
        "colab": {
          "base_uri": "https://localhost:8080/"
        },
        "id": "7J8TAK1nQBiv",
        "outputId": "7917fd6a-d81c-4a85-c56c-c2561a65f583"
      },
      "execution_count": null,
      "outputs": [
        {
          "output_type": "execute_result",
          "data": {
            "text/plain": [
              "49"
            ]
          },
          "metadata": {},
          "execution_count": 2
        }
      ]
    },
    {
      "cell_type": "code",
      "source": [
        "7 // 2  # 7 / 2 의 몫"
      ],
      "metadata": {
        "colab": {
          "base_uri": "https://localhost:8080/"
        },
        "id": "UWvzCDtxQC7H",
        "outputId": "2b9dcc34-def4-4f03-b879-0aae72da7e2a"
      },
      "execution_count": null,
      "outputs": [
        {
          "output_type": "execute_result",
          "data": {
            "text/plain": [
              "3"
            ]
          },
          "metadata": {},
          "execution_count": 3
        }
      ]
    },
    {
      "cell_type": "code",
      "source": [
        "7 % 2  # 7 / 2 의 나머지"
      ],
      "metadata": {
        "colab": {
          "base_uri": "https://localhost:8080/"
        },
        "id": "UWax0-mvQDuK",
        "outputId": "acd3d84e-1480-40ed-b14e-a3a6f70dfced"
      },
      "execution_count": null,
      "outputs": [
        {
          "output_type": "execute_result",
          "data": {
            "text/plain": [
              "1"
            ]
          },
          "metadata": {},
          "execution_count": 4
        }
      ]
    },
    {
      "cell_type": "markdown",
      "source": [
        "✅ p73 예제"
      ],
      "metadata": {
        "id": "jgLL-FEdLv4Q"
      }
    },
    {
      "cell_type": "code",
      "source": [
        "a = 7\n",
        "b = 2\n",
        "print('{} * {} = {}'.format(a, b, a*b))\n",
        "print('{} ** {} = {}'.format(a, b, a**b))\n",
        "print('{} // {} = {}'.format(a, b, a//b))\n",
        "print('{} % {} = {}'.format(a, b, a%b))"
      ],
      "metadata": {
        "id": "hOOoN-ZeNOfJ"
      },
      "execution_count": null,
      "outputs": []
    },
    {
      "cell_type": "markdown",
      "source": [
        "### 대입 연산자"
      ],
      "metadata": {
        "id": "CSeHONUDNh6V"
      }
    },
    {
      "cell_type": "code",
      "source": [
        "li = [1, 2, 3, 4]\n",
        "a, b, c, d = li[0], li[1], li[2], li[3]  # python은 한번에 여러 변수에 대입 가능"
      ],
      "metadata": {
        "id": "lcZJH5DKNb4u"
      },
      "execution_count": null,
      "outputs": []
    },
    {
      "cell_type": "markdown",
      "source": [
        "✅ p75 예제"
      ],
      "metadata": {
        "id": "GoJnYIxuN_Ja"
      }
    },
    {
      "cell_type": "code",
      "source": [
        "# 간단하게 스왑 가능\n",
        "a, b = 10, 20\n",
        "print('a = %d, b = %d' %(a, b))\n",
        "a, b = b, a\n",
        "print('a = %d, b = %d' %(a, b))\n",
        "\n",
        "# 다른 언어에서는 동시에 여러변수 대입이 되지 않아서\n",
        "# 임시 변수가 필요함\n",
        "temp_var = a\n",
        "a = b  # a <- b\n",
        "b = temp_var  # b <- a"
      ],
      "metadata": {
        "id": "e2K-DS1WNvyG"
      },
      "execution_count": null,
      "outputs": []
    },
    {
      "cell_type": "code",
      "source": [
        "# 복합대입 연산\n",
        "a += b  # a = a + b\n",
        "a *= 4  # a = a * 4\n",
        "b /= b  # b = b / b\n",
        "a **= 2  # a = a ** 2"
      ],
      "metadata": {
        "id": "lKbG8hqdNwcG"
      },
      "execution_count": null,
      "outputs": []
    },
    {
      "cell_type": "code",
      "source": [],
      "metadata": {
        "id": "HLbOHAX5RuOA"
      },
      "execution_count": null,
      "outputs": []
    },
    {
      "cell_type": "markdown",
      "source": [
        "### 관계 연산자"
      ],
      "metadata": {
        "id": "VKStCNs9nO-p"
      }
    },
    {
      "cell_type": "markdown",
      "source": [
        "- 같다 ( == )\n",
        "- 같지않다 ( != )"
      ],
      "metadata": {
        "id": "-LlJgWNNFejc"
      }
    },
    {
      "cell_type": "code",
      "source": [
        "print(1 > 10)\n",
        "print(30 <= 1.5)\n",
        "print(100 == 10)\n",
        "print('hello' == 'hello')\n",
        "print(0.5 < 0)\n",
        "print(10 != 11)"
      ],
      "metadata": {
        "id": "hCIpyqQeFMl8",
        "colab": {
          "base_uri": "https://localhost:8080/"
        },
        "outputId": "599193fd-2c64-4b16-fe97-8f4ed2da44df"
      },
      "execution_count": null,
      "outputs": [
        {
          "output_type": "stream",
          "name": "stdout",
          "text": [
            "False\n",
            "False\n",
            "False\n",
            "True\n",
            "False\n",
            "True\n"
          ]
        }
      ]
    },
    {
      "cell_type": "markdown",
      "source": [
        "### 논리 연산자"
      ],
      "metadata": {
        "id": "lXxw7rakFzn0"
      }
    },
    {
      "cell_type": "code",
      "source": [
        "a = True\n",
        "b = False\n",
        "print(a and b)  # a와 b가 모두 True 여야 True\n",
        "print(a and a)\n",
        "print(a or b)  # a와 b 둘중에 하나만 True면 True\n",
        "print(b or b)\n",
        "print(not a)\n",
        "print(not b)\n"
      ],
      "metadata": {
        "id": "AadtD1CQFnn-",
        "colab": {
          "base_uri": "https://localhost:8080/"
        },
        "outputId": "b92e3131-4fb5-4456-d99c-5bf15d844ecc"
      },
      "execution_count": null,
      "outputs": [
        {
          "output_type": "stream",
          "name": "stdout",
          "text": [
            "False\n",
            "True\n",
            "True\n",
            "False\n",
            "False\n",
            "True\n"
          ]
        }
      ]
    },
    {
      "cell_type": "markdown",
      "source": [
        "### 비트 연산자"
      ],
      "metadata": {
        "id": "up50UFoQnfxY"
      }
    },
    {
      "cell_type": "code",
      "source": [
        "'''\n",
        "0010 0110 2진수 - 8bit\n",
        "128 64 32 16  8421\n",
        "1000 0000\n",
        "\n",
        "0111 0000\n",
        "\n",
        "10\n",
        "01\n",
        "\n",
        "10\n",
        "'''\n",
        "bin(16 >> 3)"
      ],
      "metadata": {
        "id": "qhFCskqZjXmG",
        "colab": {
          "base_uri": "https://localhost:8080/",
          "height": 35
        },
        "outputId": "cf640149-f095-4779-f32d-02dbee61570c"
      },
      "execution_count": null,
      "outputs": [
        {
          "output_type": "execute_result",
          "data": {
            "text/plain": [
              "'0b10'"
            ],
            "application/vnd.google.colaboratory.intrinsic+json": {
              "type": "string"
            }
          },
          "metadata": {},
          "execution_count": 21
        }
      ]
    },
    {
      "cell_type": "code",
      "source": [
        "print( 1 & 1 )  # & (AND) 연산은 두값이 모두 1인 경우에만 1\n",
        "print( 1 & 0 )  # 0\n",
        "print( 1 | 0 )  # |  (OR) shift + \\ 연산은 두값 중 한 값만 1 이면 1\n",
        "print( 1 ^ 0 )  # ^ (XOR) 두 값이 서로 다른 경우에만 1\n",
        "print( ~1 )  # ~ (NOT) 값의 bit 를 역으로 바꿈\n",
        "print( 1 << 2 )  # bit 의 위치를 왼쪽으로 2비트 이동\n",
        "print( 4 >> 2 )  # bit 의 위치를 오른쪽으로 2비트 이동"
      ],
      "metadata": {
        "id": "wXVy-8aOT9WY"
      },
      "execution_count": null,
      "outputs": []
    },
    {
      "cell_type": "markdown",
      "source": [
        "#### ⚡ 컴퓨터가 음수를 표현하는 방법, 보수개념, signed / unsigned 형\n",
        "python 은 int 형을 32bit signed 형으로 2의 보수를 이용하여 음수 표현\n",
        "https://yaneodoo2.tistory.com/entry/Signed%EC%99%80-Unsigned-1%EC%9D%98-%EB%B3%B4%EC%88%98-2%EC%9D%98-%EB%B3%B4%EC%88%98%EC%9D%98-%EB%AA%A8%EB%93%A0-%EA%B2%83"
      ],
      "metadata": {
        "id": "sMMy_ja-ApqO"
      }
    },
    {
      "cell_type": "markdown",
      "source": [
        "### 시퀀스 연산자"
      ],
      "metadata": {
        "id": "ryBIYp71BVcy"
      }
    },
    {
      "cell_type": "code",
      "source": [
        "li = [1, 3, 5] + [2, 4, 6]  # [1, 3, 5, 2, 4, 6]\n",
        "s = 'hello' + ' '+ 'world'  # 'hello world'\n",
        "s"
      ],
      "metadata": {
        "id": "3RFVYk6WAxZi",
        "colab": {
          "base_uri": "https://localhost:8080/",
          "height": 35
        },
        "outputId": "84c4b225-baa7-4478-df19-cef513df1814"
      },
      "execution_count": null,
      "outputs": [
        {
          "output_type": "execute_result",
          "data": {
            "text/plain": [
              "'hello world'"
            ],
            "application/vnd.google.colaboratory.intrinsic+json": {
              "type": "string"
            }
          },
          "metadata": {},
          "execution_count": 24
        }
      ]
    },
    {
      "cell_type": "markdown",
      "source": [
        "### 맴버 연산자 in"
      ],
      "metadata": {
        "id": "hB-UJB-vCme5"
      }
    },
    {
      "cell_type": "code",
      "source": [
        "0 in [1, 2, 3]"
      ],
      "metadata": {
        "id": "k1icumKxCPO5",
        "colab": {
          "base_uri": "https://localhost:8080/"
        },
        "outputId": "110158e8-95ca-469d-8270-9065fd5aeb5f"
      },
      "execution_count": null,
      "outputs": [
        {
          "output_type": "execute_result",
          "data": {
            "text/plain": [
              "False"
            ]
          },
          "metadata": {},
          "execution_count": 26
        }
      ]
    },
    {
      "cell_type": "code",
      "source": [
        "1 in (1, 2, 3)"
      ],
      "metadata": {
        "id": "Vo7W-MmYCcUS"
      },
      "execution_count": null,
      "outputs": []
    },
    {
      "cell_type": "code",
      "source": [
        "'1' in '12345'"
      ],
      "metadata": {
        "id": "lK0eS4jZCdxQ"
      },
      "execution_count": null,
      "outputs": []
    },
    {
      "cell_type": "code",
      "source": [
        "'a' in {'a' : 'apple'}"
      ],
      "metadata": {
        "id": "3q3P2EvVCfsQ"
      },
      "execution_count": null,
      "outputs": []
    },
    {
      "cell_type": "markdown",
      "source": [
        "### 삼항 연산자"
      ],
      "metadata": {
        "id": "5kZ_iunEGP3l"
      }
    },
    {
      "cell_type": "code",
      "source": [
        "#  X if a > b else Y  a > b 값이 True 면 X 아니면 Y\n",
        "a = 100 if 10 > 100 else 0\n",
        "b = 100 if 100 > 0 else 0\n",
        "\n",
        "print(a)\n",
        "print(b)"
      ],
      "metadata": {
        "id": "qLCOj07FGR3V",
        "colab": {
          "base_uri": "https://localhost:8080/"
        },
        "outputId": "b9fc712d-72ed-4218-e7ed-adbf1d12f49e"
      },
      "execution_count": null,
      "outputs": [
        {
          "output_type": "stream",
          "name": "stdout",
          "text": [
            "0\n",
            "100\n"
          ]
        }
      ]
    },
    {
      "cell_type": "markdown",
      "source": [
        "### ❓ 응용예제 -p85"
      ],
      "metadata": {
        "id": "UIHnD3bcDXcQ"
      }
    },
    {
      "cell_type": "markdown",
      "source": [
        "\n",
        "> 2번  - 1분은 60초이고, 1시간은 60분 입니다. 1시간은 3600초 입니다.\n",
        "임의의 초를 입력받아서 해당 초를 시, 분, 초로 변환하여 출력하는 프로그램을 구현하세요\n",
        "\n"
      ],
      "metadata": {
        "id": "AXo0IbCcDmq7"
      }
    },
    {
      "cell_type": "code",
      "source": [
        "변수 = input('초를 입력하세요 >>>')\n",
        "int('숫자문자열') # 문자열을 int 로 바꿔주는 함수\n",
        "/ 나누기        # 1시간 3600초 / 1분 60초\n",
        "// 몫을구할때\n",
        "% 나머지를 구할때\n",
        "print(f'변환결과는 {시간변수}시간 {분변수}분 {초변수}초 입니다.')"
      ],
      "metadata": {
        "id": "eZEnVd-eV5tH"
      },
      "execution_count": null,
      "outputs": []
    },
    {
      "cell_type": "code",
      "source": [
        "초를 입력하세요 >>> 3690\n",
        "변환결과는 1시간 1분 30초 입니다"
      ],
      "metadata": {
        "id": "F0hsZ_C8ClcA"
      },
      "execution_count": null,
      "outputs": []
    },
    {
      "cell_type": "markdown",
      "source": [
        "\n",
        "\n",
        "> 5번 - 국어, 영어, 수학 점수를 각각 입력받아서 평균을 구하고,\n",
        ">평균이 80점 이상이면 '합격', 아니면 '불합격'을 출력하는 프로그램을 구현하세요.\n",
        "\n"
      ],
      "metadata": {
        "id": "bT_Z1V_IGpU8"
      }
    },
    {
      "cell_type": "code",
      "source": [
        "국어 점수를 입력하세요 >> 85\n",
        "영어 점수를 입력하세요 >> 83\n",
        "수학 점수를 입력하세요 >> 81\n",
        "평균은 83.0점이고, 결과는 합격입니다."
      ],
      "metadata": {
        "id": "o6Fu5YlXG4__"
      },
      "execution_count": null,
      "outputs": []
    },
    {
      "cell_type": "markdown",
      "source": [
        "#### 코드"
      ],
      "metadata": {
        "id": "Fe78Gs2dYeAm"
      }
    },
    {
      "cell_type": "code",
      "source": [
        "sec = int(input('초를 입력하세요'))\n",
        "h = sec // 3600\n",
        "m = sec % 3600 // 60\n",
        "s = sec % 3600 % 60\n",
        "print('변환결과는 {}시간 {}분 {}초 입니다'.format(h, m, s))"
      ],
      "metadata": {
        "colab": {
          "base_uri": "https://localhost:8080/"
        },
        "id": "BVO0E-SiM7Ui",
        "outputId": "00ca413d-492d-494e-fa88-22d7747959df"
      },
      "execution_count": null,
      "outputs": [
        {
          "output_type": "stream",
          "name": "stdout",
          "text": [
            "초를 입력하세요3690\n",
            "변환결과는 1시간 1분 30초 입니다\n"
          ]
        }
      ]
    },
    {
      "cell_type": "code",
      "source": [
        "kor = int(input('국어 점수를 입력하세요 >>'))\n",
        "eng = int(input('영어 점수를 입력하세요 >>'))\n",
        "mat = int(input('수학 점수를 입력하세요 >>'))\n",
        "m = (kor + eng + mat) / 3\n",
        "if m >= 80:\n",
        "    r = '합격'\n",
        "else:\n",
        "    r = '불합격'\n",
        "print('평균은 {:.3f}점이고, 결과는 {}입니다.'.format(m, r))"
      ],
      "metadata": {
        "colab": {
          "base_uri": "https://localhost:8080/"
        },
        "id": "3mhVrhiMYgAJ",
        "outputId": "a8af5408-b4dc-4895-f0e0-46fcc0c57b8a"
      },
      "execution_count": null,
      "outputs": [
        {
          "output_type": "stream",
          "name": "stdout",
          "text": [
            "국어 점수를 입력하세요 >>84\n",
            "영어 점수를 입력하세요 >>50\n",
            "수학 점수를 입력하세요 >>20\n",
            "평균은 51.333점이고, 결과는 불합격입니다.\n"
          ]
        }
      ]
    },
    {
      "cell_type": "markdown",
      "source": [
        "## 조건문 - p90"
      ],
      "metadata": {
        "id": "Tc4cg1_WRIsr"
      }
    },
    {
      "cell_type": "markdown",
      "source": [
        "### if ~ elif ~ else"
      ],
      "metadata": {
        "id": "l7BXmudCJmIW"
      }
    },
    {
      "cell_type": "code",
      "source": [
        "if 조건식_1 :\n",
        "    조건식_1 값이 True인 경우 실행\n",
        "\n",
        "elif 조건식_2 :\n",
        "    조건식_1 값이 False고 조건식_2 값이 True인 경우 실행\n",
        "...\n",
        "...\n",
        "elif 조건식_x:\n",
        "    이전의 조건식이 모두 False고 조건식_x 의 값이 True인 경우 실행\n",
        "else:\n",
        "    위의 boolean이 모두 False인경우 실행\n",
        "\n",
        "\n"
      ],
      "metadata": {
        "id": "mF2DTE1mZ6Lc",
        "colab": {
          "base_uri": "https://localhost:8080/",
          "height": 135
        },
        "outputId": "4a7b6ad8-5973-4a76-f7c9-3dd1e13f02cc"
      },
      "execution_count": null,
      "outputs": [
        {
          "output_type": "error",
          "ename": "SyntaxError",
          "evalue": "ignored",
          "traceback": [
            "\u001b[0;36m  File \u001b[0;32m\"<ipython-input-28-c23a641a87d8>\"\u001b[0;36m, line \u001b[0;32m2\u001b[0m\n\u001b[0;31m    조건식_1 값이 True인 경우 실행\u001b[0m\n\u001b[0m          ^\u001b[0m\n\u001b[0;31mSyntaxError\u001b[0m\u001b[0;31m:\u001b[0m invalid syntax\n"
          ]
        }
      ]
    },
    {
      "cell_type": "markdown",
      "source": [
        "✅ p98 예제"
      ],
      "metadata": {
        "id": "W31kWzcfjVXR"
      }
    },
    {
      "cell_type": "code",
      "source": [
        "age = int(input('몇 살입니까? >>>'))\n",
        "if age <= 7 :\n",
        "    print('미취학')\n",
        "elif age <= 13:\n",
        "    print('초등학생')\n",
        "elif age <= 16:\n",
        "    print('중학생')\n",
        "elif age <= 19:\n",
        "    print('고등학생')\n",
        "else:\n",
        "    print('성인')\n"
      ],
      "metadata": {
        "id": "vfgTwCWLRYKa"
      },
      "execution_count": null,
      "outputs": []
    },
    {
      "cell_type": "markdown",
      "source": [
        "- 다양한 조건식"
      ],
      "metadata": {
        "id": "WhxyfRcVjqx2"
      }
    },
    {
      "cell_type": "code",
      "source": [
        "x = 100\n",
        "if x > 10:\n",
        "    print(x)\n",
        "\n",
        "if 'h' in 'hello':\n",
        "    print('h in hello')\n",
        "\n",
        "li = []\n",
        "if li:\n",
        "    print('list not empty')\n",
        "\n",
        "li.pop(0)\n",
        "if not li:\n",
        "    print('list empty')\n",
        "\n",
        "# 가능하지만 특별한 경우에만\n",
        "if 0 < x < 100:\n",
        "    print('@.@')\n",
        "\n",
        "\n",
        "if li or 'h' in 'world':\n",
        "    print('@.@')\n",
        "\n",
        "\n"
      ],
      "metadata": {
        "id": "orQEL-m2jkJb"
      },
      "execution_count": null,
      "outputs": []
    },
    {
      "cell_type": "markdown",
      "source": [
        "### ⚡ Python 3.10 부터 지원되는 Match-case 문\n",
        "\n",
        "https://okeybox.tistory.com/395"
      ],
      "metadata": {
        "id": "GvlhSCGiu-Vn"
      }
    },
    {
      "cell_type": "code",
      "source": [
        "!python --version"
      ],
      "metadata": {
        "colab": {
          "base_uri": "https://localhost:8080/"
        },
        "id": "E78HpObnvOZs",
        "outputId": "893d663f-5f80-49d7-8d6b-216d9a71b390"
      },
      "execution_count": null,
      "outputs": [
        {
          "output_type": "stream",
          "name": "stdout",
          "text": [
            "Python 3.10.12\n"
          ]
        }
      ]
    },
    {
      "cell_type": "code",
      "source": [
        "a = 'apple'\n",
        "match a:\n",
        "    case 'apple':\n",
        "        print('apple')\n",
        "    case 'banana':\n",
        "        print('banana')\n",
        "    case 'casdf':\n",
        "        print('banana')\n",
        "    case 'banasdfana':\n",
        "        print('banana')"
      ],
      "metadata": {
        "id": "YDRAfihVvRIL"
      },
      "execution_count": null,
      "outputs": []
    },
    {
      "cell_type": "markdown",
      "source": [
        "### ❓ 응용예제 -p99"
      ],
      "metadata": {
        "id": "1V7OnWmxoRxY"
      }
    },
    {
      "cell_type": "markdown",
      "source": [
        "> 1번 - 점수를 입력받아서 학점을 출력하는 프로그램을 구현하세요.\n",
        "학점은 점수가 100\\~90점이면 'A', 89\\~80점이면 'B', 79\\~70점이면 'C',\n",
        "69\\~60점이면 'D', 59\\~0점이면 'F'입니다.\n"
      ],
      "metadata": {
        "id": "DTIM957goiae"
      }
    },
    {
      "cell_type": "code",
      "source": [
        "score = int(input('점수를 입력하세요 >>> '))\n",
        "\n",
        "if score >= 90:\n",
        "    grade = 'A'\n",
        "elif score >= 80:\n",
        "    grade = 'B'\n",
        "elif score >= 70:\n",
        "    grade = 'C'\n",
        "elif score >= 60:\n",
        "    grade = 'D'\n",
        "else:\n",
        "    grade = 'F'\n",
        "print(f'점수는 {score}점이고, 학점은 {grade}학점 입니다.')"
      ],
      "metadata": {
        "colab": {
          "base_uri": "https://localhost:8080/"
        },
        "id": "50Aq1pyrhhP1",
        "outputId": "cd5cb30e-aa1a-48e9-975c-0aab92c866fd"
      },
      "execution_count": null,
      "outputs": [
        {
          "output_type": "stream",
          "name": "stdout",
          "text": [
            "점수를 입력하세요 >>> 1209\n",
            "점수는 1209점이고, 학점은 B학점 입니다.\n"
          ]
        }
      ]
    },
    {
      "cell_type": "code",
      "source": [
        "점수를 입력하세요 >>> 95\n",
        "점수는 95점이고, 학점은 A학점 입니다."
      ],
      "metadata": {
        "id": "S1MaOJgqn9BL"
      },
      "execution_count": null,
      "outputs": []
    },
    {
      "cell_type": "markdown",
      "source": [
        "> 3번 - 임의의 정수 3개를 입력받아 그 중에서 가장 큰 수를 출력하는 프로그램을 구현하세요."
      ],
      "metadata": {
        "id": "fDcYj3GSpDEn"
      }
    },
    {
      "cell_type": "code",
      "source": [
        "정수1 입력 >>> 3\n",
        "정수2 입력 >>> 1\n",
        "정수3 입력 >>> 2\n",
        "가장 큰 수는 3입니다."
      ],
      "metadata": {
        "id": "ixA6jbqRrJ1l"
      },
      "execution_count": null,
      "outputs": []
    },
    {
      "cell_type": "markdown",
      "source": [
        "#### 코드"
      ],
      "metadata": {
        "id": "oF7O4vZsZSWg"
      }
    },
    {
      "cell_type": "code",
      "source": [
        "score = int(input('점수를 입력하세요 >>>'))\n",
        "if score >= 90:\n",
        "    grade = 'A'\n",
        "elif score >= 80:\n",
        "    grade = 'B'\n",
        "elif score >= 70:\n",
        "    grade = 'C'\n",
        "elif score >= 60:\n",
        "    grade = 'D'\n",
        "else:\n",
        "    grade = 'F'\n",
        "print('점수는 {}점이고, 학점은 {}학점 입니다.'.format(score, grade))"
      ],
      "metadata": {
        "id": "EXyp-9eUOf4I"
      },
      "execution_count": null,
      "outputs": []
    },
    {
      "cell_type": "code",
      "source": [
        "int_1 = int(input('정수1 입력 >>>'))\n",
        "int_2 = int(input('정수2 입력 >>>'))\n",
        "int_3 = int(input('정수3 입력 >>>'))\n",
        "if int_1 > int_2 and int_1 > int_3:\n",
        "    top = int_1\n",
        "elif int_2 > int_1 and int_2 > int_3:\n",
        "    top = int_2\n",
        "else:\n",
        "    top = int_3\n",
        "print('가장 큰 수는 {}입니다.'.format(top))"
      ],
      "metadata": {
        "id": "7bBPOVk-PHzT"
      },
      "execution_count": null,
      "outputs": []
    },
    {
      "cell_type": "markdown",
      "source": [
        "## 반복문 -p102"
      ],
      "metadata": {
        "id": "t0OkKki6wmTy"
      }
    },
    {
      "cell_type": "markdown",
      "source": [
        "### while 문"
      ],
      "metadata": {
        "id": "HYPy_OWj3ALu"
      }
    },
    {
      "cell_type": "code",
      "source": [
        "while 조건식:\n",
        "    반복실행문\n"
      ],
      "metadata": {
        "id": "feXUJT7qwnj_"
      },
      "execution_count": null,
      "outputs": []
    },
    {
      "cell_type": "code",
      "source": [
        "while True:\n",
        "    print('hello')"
      ],
      "metadata": {
        "id": "pwLEkGdc3IRR"
      },
      "execution_count": null,
      "outputs": []
    },
    {
      "cell_type": "code",
      "source": [
        "n = 1\n",
        "while n <= 100:\n",
        "    print(n)\n",
        "    n += 1\n",
        "\n",
        "\n",
        "print('바깥')"
      ],
      "metadata": {
        "id": "ICSUS4EE3LZO"
      },
      "execution_count": null,
      "outputs": []
    },
    {
      "cell_type": "markdown",
      "source": [
        "#### ❓ 응용예제 -p112"
      ],
      "metadata": {
        "id": "p5_OSCXdLUq9"
      }
    },
    {
      "cell_type": "markdown",
      "source": [
        "\n",
        "\n",
        "> 3번 - 커피 1잔을 300원에 판매하는 자판기가 있습니다.\n",
        " 이 자판기에 돈을 입력하면 뽑을수 있는 커피가 몇 잔이며\n",
        " 잔돈은 얼마인지 함께 출력하는 프로그램을 구현하세요\n",
        "\n"
      ],
      "metadata": {
        "id": "EfbKro4LLZLV"
      }
    },
    {
      "cell_type": "code",
      "source": [
        "자판기에 얼마를 넣을까요? >>> 1400\n",
        "커피 1잔, 잔돈 1100원\n",
        "커피 2잔, 잔돈 800원\n",
        "커피 3잔, 잔돈 500원\n",
        "커피 4잔, 잔돈 200원"
      ],
      "metadata": {
        "id": "K1DIHyZPL5NY"
      },
      "execution_count": null,
      "outputs": []
    },
    {
      "cell_type": "code",
      "source": [
        "money = int(input('자판기에 얼마를 넣을까요?'))\n",
        "\n",
        "while money >= 300:\n",
        "    money -= 300\n",
        "    print(f'커피 {n}잔, 잔돈 {money}원')\n",
        "    n += 1"
      ],
      "metadata": {
        "colab": {
          "base_uri": "https://localhost:8080/"
        },
        "id": "aRyLdd3rmW6L",
        "outputId": "4e8af5ed-4b90-4e23-bdc1-fe97304d1492"
      },
      "execution_count": null,
      "outputs": [
        {
          "output_type": "stream",
          "name": "stdout",
          "text": [
            "자판기에 얼마를 넣을까요?3100\n",
            "커피 1잔, 잔돈 2800원\n",
            "커피 2잔, 잔돈 2500원\n",
            "커피 3잔, 잔돈 2200원\n",
            "커피 4잔, 잔돈 1900원\n",
            "커피 5잔, 잔돈 1600원\n",
            "커피 6잔, 잔돈 1300원\n",
            "커피 7잔, 잔돈 1000원\n",
            "커피 8잔, 잔돈 700원\n",
            "커피 9잔, 잔돈 400원\n",
            "커피 10잔, 잔돈 100원\n"
          ]
        }
      ]
    },
    {
      "cell_type": "markdown",
      "source": [
        "#### 코드"
      ],
      "metadata": {
        "id": "Me8LRyXOZUn9"
      }
    },
    {
      "cell_type": "code",
      "source": [
        "money = int(input('자판기에 얼마를 넣을까요? >>>'))\n",
        "n = 1\n",
        "coffee = 300\n",
        "while money >= 300:\n",
        "    money -= coffee\n",
        "    print('커피 {}잔, 잔돈 {}원'.format(n, money))\n",
        "    n += 1"
      ],
      "metadata": {
        "colab": {
          "base_uri": "https://localhost:8080/"
        },
        "id": "2RaFjS6hMFKE",
        "outputId": "1057e1c2-37aa-4d0e-f4b3-b4abc95e40e9"
      },
      "execution_count": null,
      "outputs": [
        {
          "output_type": "stream",
          "name": "stdout",
          "text": [
            "자판기에 얼마를 넣을까요? >>>1400\n",
            "커피 1잔, 잔돈 1100원\n",
            "커피 2잔, 잔돈 800원\n",
            "커피 3잔, 잔돈 500원\n",
            "커피 4잔, 잔돈 200원\n"
          ]
        }
      ]
    },
    {
      "cell_type": "markdown",
      "source": [
        "### continue 와 break"
      ],
      "metadata": {
        "id": "f32qlcMyKBo-"
      }
    },
    {
      "cell_type": "code",
      "source": [
        "n = 0\n",
        "while n <= 99:\n",
        "    n+=1\n",
        "    if n % 2 == 0:\n",
        "        continue  # while 문으로 다시 되돌아감\n",
        "\n",
        "    print(n)\n",
        "    if n > 50:\n",
        "        break  # break 가 실행되는 반복문 밖으로 빠져나감\n",
        "\n",
        "print('while문 밖')"
      ],
      "metadata": {
        "id": "AsQkZTtj3eG0"
      },
      "execution_count": null,
      "outputs": []
    },
    {
      "cell_type": "markdown",
      "source": [
        "### for 문"
      ],
      "metadata": {
        "id": "gMxyOSna35F-"
      }
    },
    {
      "cell_type": "code",
      "source": [
        "for 변수 in 반복가능객체:\n",
        "    반복실행문"
      ],
      "metadata": {
        "id": "l6vXvrwC3plL"
      },
      "execution_count": null,
      "outputs": []
    },
    {
      "cell_type": "code",
      "source": [
        "for s in 'hello':\n",
        "    print(s)"
      ],
      "metadata": {
        "id": "tjyHVwL34Ugi",
        "colab": {
          "base_uri": "https://localhost:8080/"
        },
        "outputId": "44571d91-1bb1-433c-9c45-e90a7f5d35e0"
      },
      "execution_count": null,
      "outputs": [
        {
          "output_type": "stream",
          "name": "stdout",
          "text": [
            "h\n",
            "e\n",
            "l\n",
            "l\n",
            "o\n"
          ]
        }
      ]
    },
    {
      "cell_type": "markdown",
      "source": [
        "✅ p120 예제"
      ],
      "metadata": {
        "id": "MwLhFL1F4_hn"
      }
    },
    {
      "cell_type": "code",
      "source": [
        "a = 'a'"
      ],
      "metadata": {
        "id": "fVN1N8kDtLXR"
      },
      "execution_count": null,
      "outputs": []
    },
    {
      "cell_type": "code",
      "source": [],
      "metadata": {
        "id": "y5L0KU9stNXK"
      },
      "execution_count": null,
      "outputs": []
    },
    {
      "cell_type": "code",
      "source": [
        "pwd = input('비밀번호를 입력하세요 >>>')\n",
        "ch_count = 0 3\n",
        "num_count = 0 3\n",
        "\n",
        "for ch in pwd\n",
        "    if ch.isalpha():\n",
        "        ch_count += 1\n",
        "    elif ch.isnumeric():\n",
        "        num_count += 1\n",
        "\n",
        "if ch_count > 0 and num_count > 0:\n",
        "    print('가능한 비밀번호입니다.')\n",
        "else:\n",
        "    print('불가능한 비밀번호입니다.')"
      ],
      "metadata": {
        "id": "HOEjTCQc5EKY",
        "colab": {
          "base_uri": "https://localhost:8080/",
          "height": 135
        },
        "outputId": "3c13d9d2-4fef-479a-d21c-46114d7d9f7f"
      },
      "execution_count": null,
      "outputs": [
        {
          "output_type": "error",
          "ename": "SyntaxError",
          "evalue": "ignored",
          "traceback": [
            "\u001b[0;36m  File \u001b[0;32m\"<ipython-input-39-5ad98185b1a8>\"\u001b[0;36m, line \u001b[0;32m5\u001b[0m\n\u001b[0;31m    for ch in pwd{\u001b[0m\n\u001b[0m                 ^\u001b[0m\n\u001b[0;31mSyntaxError\u001b[0m\u001b[0;31m:\u001b[0m invalid syntax\n"
          ]
        }
      ]
    },
    {
      "cell_type": "code",
      "source": [
        "]for n in [1, 2, 3]:\n",
        "    print(n)"
      ],
      "metadata": {
        "id": "BSUtKq7w4DnD"
      },
      "execution_count": null,
      "outputs": []
    },
    {
      "cell_type": "markdown",
      "source": [
        "### 리스트 내포 (list comprehension)"
      ],
      "metadata": {
        "id": "30jOwuSo5kFE"
      }
    },
    {
      "cell_type": "code",
      "source": [
        "리스트 = [표현식 for 변수 in 반복가능객체]"
      ],
      "metadata": {
        "id": "y-wwn6m-5ou8"
      },
      "execution_count": null,
      "outputs": []
    },
    {
      "cell_type": "code",
      "source": [
        "[n*2 for n in [1, 2, 3]]"
      ],
      "metadata": {
        "id": "bidIcQFcBYA8"
      },
      "execution_count": null,
      "outputs": []
    },
    {
      "cell_type": "code",
      "source": [
        "[n*2 for n in [1, 2, 3, 4, 5] if n % 2 == 1]"
      ],
      "metadata": {
        "id": "LBTvIsChBi0B"
      },
      "execution_count": null,
      "outputs": []
    },
    {
      "cell_type": "code",
      "source": [
        "[n*2 if n < 3 else n for n in [1, 2, 3, 4, 5] ]"
      ],
      "metadata": {
        "id": "YB6Jlw0pV8Lh"
      },
      "execution_count": null,
      "outputs": []
    },
    {
      "cell_type": "markdown",
      "source": [
        "### ⚡ Python comprehension\n",
        "http://pythonstudy.xyz/python/article/22-Python-Comprehension"
      ],
      "metadata": {
        "id": "SeqNrfCC9FxB"
      }
    },
    {
      "cell_type": "code",
      "source": [
        "data_key = ['states', 'actions', 'rewards', 'next_states', 'dones']\n",
        "dict_data = {k: [] for k in data_key}  # 배열의 각문자열을 key로 하고 빈 리스트를 값으로 하는 dict 초기화"
      ],
      "metadata": {
        "id": "0H7Ha1GC6lwv"
      },
      "execution_count": null,
      "outputs": []
    },
    {
      "cell_type": "markdown",
      "source": [
        "### for문과 range() 함수"
      ],
      "metadata": {
        "id": "tXrXZpodCN55"
      }
    },
    {
      "cell_type": "code",
      "source": [
        "for n in range(10):\n",
        "    print(n)"
      ],
      "metadata": {
        "id": "HRWT9PHl4dRk"
      },
      "execution_count": null,
      "outputs": []
    },
    {
      "cell_type": "code",
      "source": [
        "range(10)"
      ],
      "metadata": {
        "id": "TakgwlOqCZZF"
      },
      "execution_count": null,
      "outputs": []
    },
    {
      "cell_type": "code",
      "source": [
        "for n in range(1,11):\n",
        "    print(n)"
      ],
      "metadata": {
        "id": "Iy1v4eCZCbPs"
      },
      "execution_count": null,
      "outputs": []
    },
    {
      "cell_type": "markdown",
      "source": [
        "### for문과 dict"
      ],
      "metadata": {
        "id": "lh1CebUGDxl0"
      }
    },
    {
      "cell_type": "code",
      "source": [
        "person = {\n",
        "    'name': '에밀리',\n",
        "    'age': 20\n",
        "}\n",
        "\n",
        "for k in person:\n",
        "    print(person[k])"
      ],
      "metadata": {
        "id": "iJzk7wDSCiwN"
      },
      "execution_count": null,
      "outputs": []
    },
    {
      "cell_type": "markdown",
      "source": [
        "### ❗ 응용예제변형 - p130"
      ],
      "metadata": {
        "id": "KeE9gVoRKioP"
      }
    },
    {
      "cell_type": "markdown",
      "source": [
        "\n",
        "\n",
        "> 4번 변형 - 다음과 같은 10명의 성적을 100점을 받은 학생의 점수를 제외한 점수를 5점씩 증가시킨 'score' 리스트를\n",
        "list comprehension을 이용해서 작성, 단 100점이 초과 되지 않도록 처리하세요\n",
        "(Hint : min()함수를 사용하면 작은값을 정할수 있습니다. min(5, 10)의 결과는 5)\n"
      ],
      "metadata": {
        "id": "Hba1FzrDQX4o"
      }
    },
    {
      "cell_type": "code",
      "source": [
        "exam = [99, 78, 100, 91, 81, 85, 54, 100, 71, 50]\n",
        "score = [100, 83, 100, 96, 86, 90, 59, 100, 76, 55]"
      ],
      "metadata": {
        "id": "AZb6yLoRUVib"
      },
      "execution_count": null,
      "outputs": []
    },
    {
      "cell_type": "markdown",
      "source": [
        "#### 코드"
      ],
      "metadata": {
        "id": "1Saj8viNZWiY"
      }
    },
    {
      "cell_type": "code",
      "source": [
        "score = [min(n+5, 100) if n!=100 else n for n in exam  ]"
      ],
      "metadata": {
        "id": "4_VJpUOyUmLb"
      },
      "execution_count": null,
      "outputs": []
    }
  ]
}