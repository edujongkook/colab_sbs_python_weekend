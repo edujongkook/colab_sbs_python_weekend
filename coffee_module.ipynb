{
  "nbformat": 4,
  "nbformat_minor": 0,
  "metadata": {
    "colab": {
      "provenance": [],
      "authorship_tag": "ABX9TyMJ8EWVQYtuJE5ZfQgmk7iz",
      "include_colab_link": true
    },
    "kernelspec": {
      "name": "python3",
      "display_name": "Python 3"
    },
    "language_info": {
      "name": "python"
    }
  },
  "cells": [
    {
      "cell_type": "markdown",
      "metadata": {
        "id": "view-in-github",
        "colab_type": "text"
      },
      "source": [
        "<a href=\"https://colab.research.google.com/github/edujongkook/colab_sbs_python_weekend/blob/main/coffee_module.ipynb\" target=\"_parent\"><img src=\"https://colab.research.google.com/assets/colab-badge.svg\" alt=\"Open In Colab\"/></a>"
      ]
    },
    {
      "cell_type": "code",
      "execution_count": null,
      "metadata": {
        "id": "kqDuvyyYW7ke"
      },
      "outputs": [],
      "source": [
        "def coffee_machine():\n",
        "    pick = input('커피를 선택하세요. (아메리카노, 카페라떼, 카푸치노)')\n",
        "    money = int(input('얼마를 내시나요? >>> '))\n",
        "    print('{}원에 {}를 선택하셨습니다.'.format(money, pick))\n",
        "    menu = {\n",
        "        '아메리카노' : 1000,\n",
        "        '카페라떼' : 1500,\n",
        "        '카푸치노' : 2000\n",
        "    }\n",
        "    if pick not in menu:\n",
        "        print('{}는 판매하지 않습니다'.format(pick))\n",
        "        return '잔돈 {}원, 커피 {}'.format(money, '없는 메뉴')\n",
        "    elif menu[pick] > money:\n",
        "        print('{}는 {}원입니다.'.format(pick, menu[pick]))\n",
        "        return '잔돈 {}원, 커피 {}'.format(money, '금액 부족')\n",
        "    else:\n",
        "        return '잔돈 {}원, 커피 {}'.format(money - menu[pick],  pick)"
      ]
    }
  ]
}